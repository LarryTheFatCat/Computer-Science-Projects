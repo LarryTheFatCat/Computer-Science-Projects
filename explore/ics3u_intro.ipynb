{
 "cells": [
  {
   "cell_type": "markdown",
   "metadata": {},
   "source": [
    "# Welcome to ICS3U\n",
    "## Introduction to computer studies\n",
    "\n",
    "My hope with this course is that you all leave here with a sense of wonder and awe at the possibilites that learning how to make a computer do your bidding (Programming)."
   ]
  },
  {
   "cell_type": "markdown",
   "metadata": {},
   "source": [
    "## Math\n",
    "\n",
    "Remember on Friday when I said that programming is an extension of math? Well it would be hard to say that if python didn't have first-class mathematical operations built-in to the language.\n",
    "\n",
    "Let's take a look at some math together.\n",
    "\n",
    "PS: Any line that begins with a # is called a comment. That code is not run by python"
   ]
  },
  {
   "cell_type": "code",
   "execution_count": 1,
   "metadata": {},
   "outputs": [
    {
     "data": {
      "text/plain": [
       "44"
      ]
     },
     "execution_count": 1,
     "metadata": {},
     "output_type": "execute_result"
    }
   ],
   "source": [
    "# Some basic math (Addition)\n",
    "18 + 26"
   ]
  },
  {
   "cell_type": "code",
   "execution_count": 3,
   "metadata": {},
   "outputs": [
    {
     "data": {
      "text/plain": [
       "-15"
      ]
     },
     "execution_count": 3,
     "metadata": {},
     "output_type": "execute_result"
    }
   ],
   "source": [
    "# Some basic math (Subtraction)\n",
    "20 - 35"
   ]
  },
  {
   "cell_type": "code",
   "execution_count": null,
   "metadata": {},
   "outputs": [],
   "source": [
    "# Some basic math (Multiplication)\n",
    "5 * 68"
   ]
  },
  {
   "cell_type": "code",
   "execution_count": null,
   "metadata": {},
   "outputs": [],
   "source": [
    "# Some basic math (Division)\n",
    "# Note that the answer has a .0 at the end!\n",
    "360 / 45"
   ]
  },
  {
   "cell_type": "code",
   "execution_count": null,
   "metadata": {},
   "outputs": [],
   "source": [
    "# Some basic math (Exponentiation)\n",
    "2 ** 8  # 2 to the power of 8"
   ]
  },
  {
   "cell_type": "markdown",
   "metadata": {},
   "source": [
    "### Solving your math homework!\n",
    "\n",
    "If the basic operations are not enough for you, then python also has a built-in *module* for more math.\n",
    "\n",
    "To use modles in python, we use the *import* keyword. For example:\n",
    "\n",
    "```python\n",
    "import math\n",
    "```\n",
    "\n",
    "Let's try that out now!"
   ]
  },
  {
   "cell_type": "code",
   "execution_count": null,
   "metadata": {},
   "outputs": [],
   "source": [
    "# Bring in the math module\n",
    "import math\n",
    "\n",
    "# The dir() function lists out all of the variables and methods that we can use.\n",
    "# Note that we can see the function 'cos' in the list, let's use it!\n",
    "dir(math)"
   ]
  },
  {
   "cell_type": "code",
   "execution_count": null,
   "metadata": {},
   "outputs": [],
   "source": [
    "import math\n",
    "\n",
    "# By default, trig functions work in radians, so cos(60) won't work.\n",
    "# But 60 deg = \tπ/3\n",
    "# Last note, notice the one at the end! Dealing with decimal numbers in coding is really difficult!\n",
    "math.cos(math.pi / 3)"
   ]
  },
  {
   "cell_type": "code",
   "execution_count": null,
   "metadata": {},
   "outputs": [],
   "source": [
    "# Try calling another math function\n",
    "# If you type in \"math.\" then a list of math functions will pop up and you can scroll through them\n",
    "# (The pop-up is called code-completion and it comes with the python extension you downloaded earlier)\n",
    "import math\n",
    "\n",
    "# Your code here"
   ]
  },
  {
   "cell_type": "markdown",
   "metadata": {},
   "source": [
    "## Variables and Printing\n",
    "\n",
    "Notice how all of the code cells above had one important line of code at the end of the cell? .ipynb code cells will print the last thing in the cell that give off a value.\n",
    "\n",
    "We can save these values in things called *variables* and use them at a later date"
   ]
  },
  {
   "cell_type": "code",
   "execution_count": null,
   "metadata": {},
   "outputs": [],
   "source": [
    "the_sum = 56 + 89\n",
    "\n",
    "the_product = 2 * the_sum\n",
    "\n",
    "print(f\"When we take {the_sum} and multiply it by 2, we get {the_product}\")"
   ]
  },
  {
   "cell_type": "markdown",
   "metadata": {},
   "source": [
    "We can use variables to store information.\n",
    "The `print()` function is responsible for displaying information to the screen.\n",
    "\n",
    "Let's see the usual first program a student will write, `Hello world`"
   ]
  },
  {
   "cell_type": "code",
   "execution_count": null,
   "metadata": {},
   "outputs": [],
   "source": [
    "print(\"Hello, world\")"
   ]
  },
  {
   "cell_type": "markdown",
   "metadata": {},
   "source": [
    "Let's take this a step further and ask the user to input their name, for that we can use the `input()` function. When this code runs, look at the top of the screen for an input box!"
   ]
  },
  {
   "cell_type": "code",
   "execution_count": null,
   "metadata": {},
   "outputs": [],
   "source": [
    "name = input(\"Please enter your name: \")\n",
    "print(f\"Hello, {name}\")"
   ]
  },
  {
   "cell_type": "markdown",
   "metadata": {},
   "source": [
    "The `input()` function *takes an argument* that is called `prompt`. To read the first line of the above code in english would be:\n",
    "\"Set name equal to whatever the `input()` function returns using the `prompt`: \"Please enter your name: \"\n",
    "\n",
    "Also notice the weird `{}` syntax. It tells python to use *string interpolation* wich is a fancy way to combine real words in english with the values of variables. We'll come back to that, don't worry.\n",
    "\n",
    "## Your first program!\n",
    "Alright, the time has come to take everything you have learned and make a calculator with me!\n",
    "\n",
    "This program will:\n",
    " * Ask the user to enter in a number\n",
    " * Ask the user to enter in another number\n",
    " * Perform a multiplication on those two numbers\n",
    " * Print the result.\n",
    "\n",
    "The only thing you do not already know how to do is ask the user to input a number!\n",
    "It's actually quite simple, we just need to wrap it in the `int()` function! Like so"
   ]
  },
  {
   "cell_type": "code",
   "execution_count": null,
   "metadata": {},
   "outputs": [],
   "source": [
    "my_num = int(input(\"Please enter a number: \"))\n",
    "print(my_num)\n",
    "print(type(my_num))  # <class 'int'>"
   ]
  },
  {
   "cell_type": "markdown",
   "metadata": {},
   "source": [
    "Okay! Here is a step by step process of what you are going to do:\n",
    "\n",
    "1. Create a variable called `num_1` and set it equal to whatever number the user inputs. Please use the prompt \"Enter the first number: \"\n",
    "2. Create another variable below called `num_2` and set it equal to whatever number the user inputs. Please use the prompt \"Enter the second number: \"\n",
    "3. Create a variable called `prod` (short for product) and set it equal to the product of `num_1` and `num_2`.\n",
    "4. Print out the `prod` using the following *interpolated string*: f\"The product of {num_1} and {num_2} is {prod}.\"\n",
    "\n",
    "When you are done, call me over and I'll take a look"
   ]
  },
  {
   "cell_type": "code",
   "execution_count": 2,
   "metadata": {},
   "outputs": [
    {
     "name": "stdout",
     "output_type": "stream",
     "text": [
      "The product of -3 and -3 is 9\n"
     ]
    }
   ],
   "source": [
    "# Your program here\n",
    "num_1 = int(input(\"Enter the first number: \"))\n",
    "num_2 = int(input(\"Enter the second number:  \"))\n",
    "\n",
    "prod = num_1 * num_2\n",
    "print(f\"The product of {num_1} and {num_2} is {prod}\")"
   ]
  },
  {
   "cell_type": "markdown",
   "metadata": {},
   "source": [
    "## Advanced maths + programming\n",
    "\n",
    "Let's take this a step further and solve a real math problem!\n",
    "(If you want some help, let me know!)\n",
    "\n",
    "This uses lists and for loops - topics that will be covered soon.\n",
    "If you can't understand the code, no worries, you will in a few weeks. For now, appreaciate how easy python makes it to read code you've never seen before :D\n",
    "\n",
    "A farmer has 24m of fencing and wants to fence off a rectangular field that borders a river. He needs no fence along the river. What are the dimensions ofthe field that has the largest area?"
   ]
  },
  {
   "cell_type": "code",
   "execution_count": 6,
   "metadata": {},
   "outputs": [
    {
     "name": "stdout",
     "output_type": "stream",
     "text": [
      "[22, 40, 54, 64, 70, 72, 70, 64, 54, 40, 22, 0, -26, -56, -90, -128, -170, -216, -266, -320, -378, -440, -506]\n",
      "max_area=72\n",
      "max_x=6\n",
      "Fence dimensions: 6m x 12m with an area of 72\n"
     ]
    }
   ],
   "source": [
    "total_fence_m = 24\n",
    "\n",
    "# Let x be the sides of the rectangle perpendicular to the river\n",
    "# Let y be the side of the rectangle parallel to the river\n",
    "\n",
    "# Let's create a list of all the possible areas\n",
    "possible_areas = []\n",
    "\n",
    "# Let's create a *loop* where we increment our x starts at 1, and goes until there is no more fence \n",
    "# A straight line\n",
    "for x in range(1, total_fence_m):\n",
    "    y = total_fence_m - 2*x\n",
    "    area = x * y\n",
    "    possible_areas.append(area)\n",
    "\n",
    "# Let's take a look, can you see which one is the biggest?\n",
    "print(possible_areas)\n",
    "\n",
    "# Let's print out the biggest one!\n",
    "max_area = max(possible_areas)\n",
    "print(f\"{max_area=}\")\n",
    "\n",
    "# But what was the x value for this?\n",
    "# It's the position of this number in the list, +1\n",
    "max_x = possible_areas.index(max_area)+1\n",
    "print(f\"{max_x=}\")\n",
    "\n",
    "# Then we can find the dimensions:\n",
    "print(f\"Fence dimensions: {max_x}m x {total_fence_m - 2*max_x}m with an area of {max_area}\")\n",
    "\n"
   ]
  },
  {
   "cell_type": "code",
   "execution_count": 2,
   "metadata": {},
   "outputs": [
    {
     "name": "stdout",
     "output_type": "stream",
     "text": [
      "Fence dimensions: 6m x 12m with an area of 72\n"
     ]
    }
   ],
   "source": [
    "# The following code is what the above code would look like if a professional \n",
    "# python developper coded up the solution\n",
    "\n",
    "# Python is a crazy language, and I hope you get to appreciate that before this class is over :D\n",
    "total_fence_m = 24\n",
    "\n",
    "max_x, max_area = max(((x, x*(total_fence_m-2*x)) for x in range(1, total_fence_m)), key=lambda x: x[1])\n",
    "print(f\"Fence dimensions: {max_x}m x {total_fence_m - 2*max_x}m with an area of {max_area}\")\n",
    "\n"
   ]
  }
 ],
 "metadata": {
  "kernelspec": {
   "display_name": "Python 3",
   "language": "python",
   "name": "python3"
  },
  "language_info": {
   "codemirror_mode": {
    "name": "ipython",
    "version": 3
   },
   "file_extension": ".py",
   "mimetype": "text/x-python",
   "name": "python",
   "nbconvert_exporter": "python",
   "pygments_lexer": "ipython3",
   "version": "3.10.11"
  }
 },
 "nbformat": 4,
 "nbformat_minor": 2
}
